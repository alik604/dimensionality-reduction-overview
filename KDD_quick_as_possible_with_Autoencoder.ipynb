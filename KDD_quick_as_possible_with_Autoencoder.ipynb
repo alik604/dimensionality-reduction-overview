{
  "nbformat": 4,
  "nbformat_minor": 0,
  "metadata": {
    "kernelspec": {
      "name": "python3",
      "display_name": "Python 3"
    },
    "language_info": {
      "codemirror_mode": {
        "name": "ipython",
        "version": 3
      },
      "file_extension": ".py",
      "mimetype": "text/x-python",
      "name": "python",
      "nbconvert_exporter": "python",
      "pygments_lexer": "ipython3",
      "version": "3.7.3"
    },
    "colab": {
      "name": "KDD quick as possible + with Autoencoder.ipynb",
      "provenance": [],
      "collapsed_sections": [
        "LvirvNaV1gT3"
      ],
      "machine_shape": "hm",
      "include_colab_link": true
    },
    "accelerator": "TPU"
  },
  "cells": [
    {
      "cell_type": "markdown",
      "metadata": {
        "id": "view-in-github",
        "colab_type": "text"
      },
      "source": [
        "<a href=\"https://colab.research.google.com/github/alik604/dimensionality-reduction-overview/blob/master/KDD_quick_as_possible_%2B_with_Autoencoder.ipynb\" target=\"_parent\"><img src=\"https://colab.research.google.com/assets/colab-badge.svg\" alt=\"Open In Colab\"/></a>"
      ]
    },
    {
      "cell_type": "markdown",
      "metadata": {
        "id": "-ZixxRgn_QE2",
        "colab_type": "text"
      },
      "source": [
        "# Intrusion Detection \n",
        "\n",
        "### Dataset from https://github.com/defcom17/NSL_KDD/\n",
        "* [more info](https://docs.google.com/spreadsheets/d/1oAx320Vo9Z6HrBrL6BcfLH6sh2zIk9EKCv2OlaMGmwY/edit#gid=0)\n",
        "\n",
        "### Sample code used: https://www.kaggle.com/meesterwaffles/nicholas-brougher-neb5211-project4\n"
      ]
    },
    {
      "cell_type": "code",
      "metadata": {
        "id": "m9hIv2s7_QE6",
        "colab_type": "code",
        "colab": {}
      },
      "source": [
        "%config IPCompleter.greedy=True\n",
        "import pandas as pd\n",
        "import seaborn as sns\n",
        "import numpy as np\n",
        "import re\n",
        "import sklearn\n",
        "\n",
        "import warnings\n",
        "warnings.filterwarnings(\"ignore\")\n",
        "\n",
        "import matplotlib.pyplot as plt\n",
        "import matplotlib as matplot\n",
        "%matplotlib inline\n",
        "\n",
        "from IPython.core.interactiveshell import InteractiveShell\n",
        "InteractiveShell.ast_node_interactivity = \"all\"\n",
        "\n",
        "from keras.models import Model, load_model\n",
        "from keras.layers import *\n",
        "from keras.callbacks import ModelCheckpoint, TensorBoard\n",
        "from keras import regularizers\n",
        "\n",
        "from sklearn.metrics import (confusion_matrix, precision_recall_curve, auc,\n",
        "                             roc_curve, recall_score, classification_report, f1_score,\n",
        "                             precision_recall_fscore_support)\n",
        "\n",
        "from sklearn import linear_model\n",
        "from sklearn.tree import DecisionTreeClassifier\n",
        "from sklearn.ensemble import RandomForestClassifier\n",
        "from sklearn.ensemble import ExtraTreesClassifier\n",
        "from sklearn.ensemble import VotingClassifier\n",
        "\n",
        "from sklearn.model_selection import train_test_split\n",
        "from sklearn.preprocessing import LabelEncoder,normalize"
      ],
      "execution_count": 0,
      "outputs": []
    },
    {
      "cell_type": "code",
      "metadata": {
        "id": "xcmNZAzs_Svh",
        "colab_type": "code",
        "colab": {}
      },
      "source": [
        "labels = ['duration', 'protocol_type', 'service', 'flag', 'src_bytes',\n",
        "'dst_bytes', 'land', 'wrong_fragment', 'urgent', 'hot',\n",
        "'num_failed_logins', 'logged_in', 'num_compromised', 'root_shell',\n",
        "'su_attempted', 'num_root', 'num_file_creations', 'num_shells',\n",
        "'num_access_files', 'num_outbound_cmds', 'is_host_login',\n",
        "'is_guest_login', 'count', 'srv_count', 'serror_rate',\n",
        "'srv_serror_rate', 'rerror_rate', 'srv_rerror_rate', 'same_srv_rate',\n",
        "'diff_srv_rate', 'srv_diff_host_rate', 'dst_host_count',\n",
        "'dst_host_srv_count', 'dst_host_same_srv_rate', 'dst_host_diff_srv_rate', 'dst_host_same_src_port_rate',\n",
        "'dst_host_srv_diff_host_rate', 'dst_host_serror_rate',\n",
        "'dst_host_srv_serror_rate', 'dst_host_rerror_rate',\n",
        "'dst_host_srv_rerror_rate', 'attack_type', 'difficulty_level']# subclass - > attack_type\n",
        "\n",
        "train = pd.read_csv('https://raw.githubusercontent.com/defcom17/NSL_KDD/master/KDDTrain%2B.csv')\n",
        "test = pd.read_csv('https://raw.githubusercontent.com/defcom17/NSL_KDD/master/KDDTest%2B.csv')\n",
        "train.columns , test.columns = labels , labels\n",
        "combined_data = pd.concat([train, test]).drop('difficulty_level', 1)\n",
        "# combined_data.shape\n",
        "# combined_data.head(5)"
      ],
      "execution_count": 0,
      "outputs": []
    },
    {
      "cell_type": "markdown",
      "metadata": {
        "id": "Xbsr_Auy_QFN",
        "colab_type": "text"
      },
      "source": [
        "### The following few cells are taken from the 'sample code'"
      ]
    },
    {
      "cell_type": "code",
      "metadata": {
        "id": "nl9Yok3f_QFO",
        "colab_type": "code",
        "outputId": "857a8583-a804-43e0-8bf4-10641affe031",
        "colab": {
          "base_uri": "https://localhost:8080/",
          "height": 190
        }
      },
      "source": [
        "le = LabelEncoder()\n",
        "\n",
        "vector = combined_data['attack_type']\n",
        "\n",
        "print(\"Attack Vectors:\", set(list(vector))) # use print to make it print on single line \n",
        "combined_data['attack_type'] = le.fit_transform(vector)\n",
        "combined_data['protocol_type'] = le.fit_transform(combined_data['protocol_type'])\n",
        "combined_data['service'] = le.fit_transform(combined_data['service'])\n",
        "combined_data['flag'] = le.fit_transform(combined_data['flag'])\n",
        "\n",
        "print('\\nDescribing attack_type: ')\n",
        "print(\"min\", vector.min())\n",
        "print(\"max\", vector.max())\n",
        "print(\"mode\",vector.mode())\n",
        "print(\"mode\", len(np.where(vector.values==16)[0])/len(vector),\"%\")\n",
        "print(\"looks like 16 is 'normal' \")"
      ],
      "execution_count": 250,
      "outputs": [
        {
          "output_type": "stream",
          "text": [
            "Attack Vectors: {'land', 'back', 'sendmail', 'named', 'sqlattack', 'worm', 'spy', 'imap', 'normal', 'xsnoop', 'satan', 'loadmodule', 'saint', 'ftp_write', 'buffer_overflow', 'portsweep', 'rootkit', 'apache2', 'guess_passwd', 'pod', 'warezmaster', 'smurf', 'processtable', 'phf', 'neptune', 'ipsweep', 'multihop', 'mscan', 'snmpguess', 'nmap', 'snmpgetattack', 'httptunnel', 'xlock', 'perl', 'ps', 'teardrop', 'mailbomb', 'xterm', 'udpstorm', 'warezclient'}\n",
            "\n",
            "Describing attack_type: \n",
            "min apache2\n",
            "max xterm\n",
            "mode 0    normal\n",
            "dtype: object\n",
            "mode 0.0 %\n",
            "looks like 16 is 'normal' \n"
          ],
          "name": "stdout"
        }
      ]
    },
    {
      "cell_type": "markdown",
      "metadata": {
        "id": "LvirvNaV1gT3",
        "colab_type": "text"
      },
      "source": [
        "# Reduce feature space - unused"
      ]
    },
    {
      "cell_type": "code",
      "metadata": {
        "id": "DMafgVi9ZLEA",
        "colab_type": "code",
        "colab": {}
      },
      "source": [
        "def RFS(): \n",
        "  # select least correlated\n",
        "  corr_matrix = combined_data.corr().abs().sort_values('attack_type')\n",
        "  # tmp.head(10) # to view CORR matrix \n",
        "  leastCorrelated = corr_matrix['attack_type'].where(lambda x: x < 0.005).dropna()\n",
        "  leastCorrelated = list(leastCorrelated.index)\n",
        "\n",
        "  # select least STD\n",
        "  leastSTD = combined_data.std().to_frame().where(lambda x: x < 0.05).dropna()#.nsmallest(20, columns=0)\n",
        "  leastSTD = list(leastSTD.transpose().columns)\n",
        "\n",
        "  featureElimination = set(leastCorrelated + leastSTD)\n",
        "  return featureElimination\n",
        "\n",
        "# featureElimination = RFS()\n",
        "# len(featureElimination)\n",
        "# featureElimination\n",
        "\n",
        "\n"
      ],
      "execution_count": 0,
      "outputs": []
    },
    {
      "cell_type": "markdown",
      "metadata": {
        "id": "60WOhD9X_QFf",
        "colab_type": "text"
      },
      "source": [
        "# Drop features and preform train_test_split"
      ]
    },
    {
      "cell_type": "code",
      "metadata": {
        "id": "x4xaj5Z0ZURo",
        "colab_type": "code",
        "colab": {}
      },
      "source": [
        "# combined_data_reduced = combined_data.drop(featureElimination,axis=1)\n",
        "\n",
        "data_x = combined_data.drop('attack_type', axis=1)\n",
        "data_y = combined_data.loc[:,['attack_type']]\n",
        "# del combined_data # free mem\n",
        "X_train, X_test, y_train, y_test = train_test_split(data_x, data_y, test_size=.5, random_state=42) # TODO\n",
        "\n",
        "X_train = pd.DataFrame(normalize(X_train))\n",
        "X_test = pd.DataFrame(normalize(X_test))"
      ],
      "execution_count": 0,
      "outputs": []
    },
    {
      "cell_type": "markdown",
      "metadata": {
        "id": "EyXt8Id41wlr",
        "colab_type": "text"
      },
      "source": [
        "# Basline ML "
      ]
    },
    {
      "cell_type": "code",
      "metadata": {
        "id": "G4e7NTqd_QFr",
        "colab_type": "code",
        "outputId": "a0db49b4-ef78-46f8-8404-9002ee9174e2",
        "colab": {
          "base_uri": "https://localhost:8080/",
          "height": 34
        }
      },
      "source": [
        "import gc \n",
        "_ = gc.collect()\n",
        "print(\"# of Dims, \",X_train.shape[1])"
      ],
      "execution_count": 253,
      "outputs": [
        {
          "output_type": "stream",
          "text": [
            "# of Dims,  41\n"
          ],
          "name": "stdout"
        }
      ]
    },
    {
      "cell_type": "code",
      "metadata": {
        "id": "DPbIkY3GNXp6",
        "colab_type": "code",
        "colab": {}
      },
      "source": [
        "DTC = DecisionTreeClassifier() \n",
        "RFC = RandomForestClassifier(n_estimators=25, random_state=1)\n",
        "ETC = ExtraTreesClassifier(n_estimators=10, criterion='gini', max_features='auto', bootstrap=False)\n",
        "x = X_train\n",
        "y = y_train['attack_type'].ravel()\n",
        "\n",
        "eclf = VotingClassifier(estimators=[('lr', DTC), ('rf', RFC),('et',ETC)], voting='hard') \n",
        "# for clf, label in zip([DTC, RFC,ETC, eclf], ['DecisionTreeClassifier', 'RandomForestClassifier', 'ExtraTreesClassifier', 'Ensemble']): \n",
        "#     _ = clf.fit(x,y)\n",
        "#     pred = clf.score(X_test,y_test)\n",
        "#     print(\"Acc: %0.10f [%s]\" % (pred,label))"
      ],
      "execution_count": 0,
      "outputs": []
    },
    {
      "cell_type": "markdown",
      "metadata": {
        "id": "i_Zp-BxRqwWI",
        "colab_type": "text"
      },
      "source": [
        "# Comparison"
      ]
    },
    {
      "cell_type": "code",
      "metadata": {
        "id": "Wn77ZwlBHcbA",
        "colab_type": "code",
        "colab": {}
      },
      "source": [
        "from sklearn.feature_selection import RFE\n",
        "from sklearn.decomposition import PCA,TruncatedSVD\n",
        "from sklearn.svm import LinearSVC\n",
        "n = 30 "
      ],
      "execution_count": 0,
      "outputs": []
    },
    {
      "cell_type": "code",
      "metadata": {
        "id": "-iOXHZnhHkgA",
        "colab_type": "code",
        "outputId": "bee2ac64-ad60-499e-e881-9c6e196a6077",
        "colab": {
          "base_uri": "https://localhost:8080/",
          "height": 51
        }
      },
      "source": [
        "rfe = RFE(DTC, n).fit(x,y)\n",
        "\n",
        "desiredIndices = np.where(rfe.support_==True)[0]\n",
        "whitelist = X_train.columns.values[desiredIndices]\n",
        "X_train_RFE,X_test_RFE = X_train[whitelist],X_test[whitelist]\n",
        "\n",
        "\n",
        "eclf = VotingClassifier(estimators=[('DecisionTreeClassifier', DTC), ('RandomForestClassifier', RFC),('ExtraTreesClassifier',ETC)], voting='hard')\n",
        "_ = eclf.fit(X_train_RFE,y_train)\n",
        "pred = eclf.score(X_test_RFE,y_test)\n",
        "\n",
        "print(\"Acc: %0.10f\" % (pred))\n",
        "print(\"number of features\",X_train_RFE.shape[1])"
      ],
      "execution_count": 256,
      "outputs": [
        {
          "output_type": "stream",
          "text": [
            "Acc: 0.9929568930\n",
            "number of features 30\n"
          ],
          "name": "stdout"
        }
      ]
    },
    {
      "cell_type": "markdown",
      "metadata": {
        "id": "de-bqkRqL5R4",
        "colab_type": "text"
      },
      "source": [
        "The above cell shows the tradeoff of garbagings the least useful features"
      ]
    },
    {
      "cell_type": "code",
      "metadata": {
        "id": "v9RcHtOGHkie",
        "colab_type": "code",
        "outputId": "37d9d354-89a5-4308-ced8-05f2db22e0df",
        "colab": {
          "base_uri": "https://localhost:8080/",
          "height": 34
        }
      },
      "source": [
        "svd = TruncatedSVD(n_components=n-20) \n",
        "_ = svd.fit(X_train_RFE)  \n",
        "\n",
        "X_train_svd, X_test_svd = svd.transform(X_train_RFE), svd.transform(X_test_RFE)\n",
        "\n",
        "# eclf = VotingClassifier(estimators=[('DecisionTreeClassifier', DTC), ('RandomForestClassifier', RFC),('ExtraTreesClassifier',ETC)], voting='hard')\n",
        "# _ = eclf.fit(X_train_svd,y_train)\n",
        "\n",
        "# pred = eclf.score(X_test_svd,y_test)\n",
        "# print(\"Acc: %0.10f\" % (pred))\n",
        "# print(\"number of features\",X_train_svd.shape[1])\n",
        "\n",
        "# print(len(svd.components_) , \"components,\",len(svd.components_[0]), \" length\")\n",
        "\n",
        "'''\n",
        "Acc: 0.9921219548\n",
        "number of features 20\n",
        "----\n",
        "Acc: 0.9851461815\n",
        "number of features 10\n",
        "'''"
      ],
      "execution_count": 257,
      "outputs": [
        {
          "output_type": "execute_result",
          "data": {
            "text/plain": [
              "'\\nAcc: 0.9921219548\\nnumber of features 20\\n----\\nAcc: 0.9851461815\\nnumber of features 10\\n'"
            ]
          },
          "metadata": {
            "tags": []
          },
          "execution_count": 257
        }
      ]
    },
    {
      "cell_type": "markdown",
      "metadata": {
        "id": "f3gqhZeCCQRS",
        "colab_type": "text"
      },
      "source": [
        "# Benchmark post feature reduction"
      ]
    },
    {
      "cell_type": "code",
      "metadata": {
        "id": "KozdNU1ZCL25",
        "colab_type": "code",
        "outputId": "76799835-32e8-4fb0-acc8-f028c3cf81f8",
        "colab": {
          "base_uri": "https://localhost:8080/",
          "height": 85
        }
      },
      "source": [
        "print(X_train_svd.shape)\n",
        "\n",
        "DTC = DecisionTreeClassifier() \n",
        "RFC = RandomForestClassifier(n_estimators=25, random_state=1)\n",
        "ETC = ExtraTreesClassifier(n_estimators=10, criterion='gini', max_features='auto', bootstrap=False)\n",
        "\n",
        "eclf = VotingClassifier(estimators=[('lr', DTC), ('rf', RFC),('et',ETC)], voting='hard') \n",
        "for clf, label in zip([DTC, RFC,ETC, eclf], ['DecisionTreeClassifier', 'RandomForestClassifier', 'ExtraTreesClassifier', 'Ensemble']): \n",
        "    _ = eclf.fit(X_train_svd,y_train)\n",
        "    pred = eclf.score(X_test_svd,y_test)\n",
        "    print(\"Acc: %0.10f [%s]\" % (pred,label))"
      ],
      "execution_count": 258,
      "outputs": [
        {
          "output_type": "execute_result",
          "data": {
            "text/plain": [
              "(74257, 10)"
            ]
          },
          "metadata": {
            "tags": []
          },
          "execution_count": 258
        },
        {
          "output_type": "stream",
          "text": [
            "Acc: 0.9861561873 [DecisionTreeClassifier]\n",
            "Acc: 0.9861965875 [RandomForestClassifier]\n",
            "Acc: 0.9859541861 [ExtraTreesClassifier]\n",
            "Acc: 0.9860215199 [Ensemble]\n"
          ],
          "name": "stdout"
        }
      ]
    },
    {
      "cell_type": "markdown",
      "metadata": {
        "id": "nwrnZAAmMDxd",
        "colab_type": "text"
      },
      "source": [
        "0.985 for 10 dimensions of data\n",
        "\n",
        "I like this better than 0.9937110306 with 41 features (dimension)"
      ]
    },
    {
      "cell_type": "markdown",
      "metadata": {
        "id": "PBGhBr07Mi7q",
        "colab_type": "text"
      },
      "source": [
        "# Auto Encoder - not working "
      ]
    },
    {
      "cell_type": "code",
      "metadata": {
        "id": "YHzCcKw-LhhQ",
        "colab_type": "code",
        "outputId": "487f4682-fb5f-42b4-cd38-74e4662a9030",
        "colab": {
          "base_uri": "https://localhost:8080/",
          "height": 51
        }
      },
      "source": [
        "gc.collect()\n",
        "print(X_train.shape)\n",
        "print(X_test.shape)\n",
        "# print(X_train_RFE.shape)\n",
        "# print(X_test_RFE.shape)\n",
        "# print(X_train_svd.shape) \n",
        "# print(X_test_svd.shape)\n",
        "\n",
        "from sklearn.preprocessing import minmax_scale # 0.59 \n",
        "from sklearn.preprocessing import StandardScaler # much beter "
      ],
      "execution_count": 0,
      "outputs": [
        {
          "output_type": "execute_result",
          "data": {
            "text/plain": [
              "735"
            ]
          },
          "metadata": {
            "tags": []
          },
          "execution_count": 231
        },
        {
          "output_type": "stream",
          "text": [
            "(74257, 41)\n",
            "(74257, 41)\n"
          ],
          "name": "stdout"
        }
      ]
    },
    {
      "cell_type": "code",
      "metadata": {
        "id": "W1Tk03USgHJj",
        "colab_type": "code",
        "colab": {}
      },
      "source": [
        "data_xx = data_x.copy()\n",
        "data_xx = StandardScaler().fit_transform(data_xx)\n",
        "X_train, X_test, y_train, y_test = train_test_split(data_xx, data_y, test_size=.5, random_state=42) # TODO\n",
        "\n",
        "svd = TruncatedSVD(n_components=20).fit(X_train) \n",
        "X_train_svd, X_test_svd = svd.transform(X_train), svd.transform(X_test)\n",
        "\n",
        "ss =StandardScaler()\n",
        "X_train_svd= ss.fit_transform(X_train_svd)\n",
        "X_test_svd = ss.transform(X_test_svd)"
      ],
      "execution_count": 0,
      "outputs": []
    },
    {
      "cell_type": "code",
      "metadata": {
        "id": "s55slIvZwlbc",
        "colab_type": "code",
        "outputId": "9a30717a-9f96-472d-ac0d-c36d027924d4",
        "colab": {
          "base_uri": "https://localhost:8080/",
          "height": 317
        }
      },
      "source": [
        "#X_train.shape\n",
        "pd.DataFrame(X_train_svd).describe()"
      ],
      "execution_count": 0,
      "outputs": [
        {
          "output_type": "execute_result",
          "data": {
            "text/html": [
              "<div>\n",
              "<style scoped>\n",
              "    .dataframe tbody tr th:only-of-type {\n",
              "        vertical-align: middle;\n",
              "    }\n",
              "\n",
              "    .dataframe tbody tr th {\n",
              "        vertical-align: top;\n",
              "    }\n",
              "\n",
              "    .dataframe thead th {\n",
              "        text-align: right;\n",
              "    }\n",
              "</style>\n",
              "<table border=\"1\" class=\"dataframe\">\n",
              "  <thead>\n",
              "    <tr style=\"text-align: right;\">\n",
              "      <th></th>\n",
              "      <th>0</th>\n",
              "      <th>1</th>\n",
              "      <th>2</th>\n",
              "      <th>3</th>\n",
              "      <th>4</th>\n",
              "      <th>5</th>\n",
              "      <th>6</th>\n",
              "      <th>7</th>\n",
              "      <th>8</th>\n",
              "      <th>9</th>\n",
              "      <th>10</th>\n",
              "      <th>11</th>\n",
              "      <th>12</th>\n",
              "      <th>13</th>\n",
              "      <th>14</th>\n",
              "      <th>15</th>\n",
              "      <th>16</th>\n",
              "      <th>17</th>\n",
              "      <th>18</th>\n",
              "      <th>19</th>\n",
              "    </tr>\n",
              "  </thead>\n",
              "  <tbody>\n",
              "    <tr>\n",
              "      <th>count</th>\n",
              "      <td>7.425700e+04</td>\n",
              "      <td>7.425700e+04</td>\n",
              "      <td>7.425700e+04</td>\n",
              "      <td>7.425700e+04</td>\n",
              "      <td>7.425700e+04</td>\n",
              "      <td>7.425700e+04</td>\n",
              "      <td>7.425700e+04</td>\n",
              "      <td>7.425700e+04</td>\n",
              "      <td>7.425700e+04</td>\n",
              "      <td>7.425700e+04</td>\n",
              "      <td>7.425700e+04</td>\n",
              "      <td>7.425700e+04</td>\n",
              "      <td>7.425700e+04</td>\n",
              "      <td>7.425700e+04</td>\n",
              "      <td>7.425700e+04</td>\n",
              "      <td>7.425700e+04</td>\n",
              "      <td>7.425700e+04</td>\n",
              "      <td>7.425700e+04</td>\n",
              "      <td>7.425700e+04</td>\n",
              "      <td>7.425700e+04</td>\n",
              "    </tr>\n",
              "    <tr>\n",
              "      <th>mean</th>\n",
              "      <td>1.583903e-16</td>\n",
              "      <td>4.838546e-17</td>\n",
              "      <td>6.967507e-17</td>\n",
              "      <td>1.799607e-17</td>\n",
              "      <td>-1.727710e-17</td>\n",
              "      <td>2.939272e-17</td>\n",
              "      <td>1.135117e-16</td>\n",
              "      <td>-1.786162e-16</td>\n",
              "      <td>3.739099e-17</td>\n",
              "      <td>1.124378e-17</td>\n",
              "      <td>5.877180e-18</td>\n",
              "      <td>-7.263239e-17</td>\n",
              "      <td>-4.523452e-17</td>\n",
              "      <td>3.072486e-17</td>\n",
              "      <td>-3.598739e-18</td>\n",
              "      <td>2.174524e-17</td>\n",
              "      <td>4.342544e-18</td>\n",
              "      <td>7.710814e-17</td>\n",
              "      <td>1.420737e-17</td>\n",
              "      <td>4.335367e-17</td>\n",
              "    </tr>\n",
              "    <tr>\n",
              "      <th>std</th>\n",
              "      <td>1.000007e+00</td>\n",
              "      <td>1.000007e+00</td>\n",
              "      <td>1.000007e+00</td>\n",
              "      <td>1.000007e+00</td>\n",
              "      <td>1.000007e+00</td>\n",
              "      <td>1.000007e+00</td>\n",
              "      <td>1.000007e+00</td>\n",
              "      <td>1.000007e+00</td>\n",
              "      <td>1.000007e+00</td>\n",
              "      <td>1.000007e+00</td>\n",
              "      <td>1.000007e+00</td>\n",
              "      <td>1.000007e+00</td>\n",
              "      <td>1.000007e+00</td>\n",
              "      <td>1.000007e+00</td>\n",
              "      <td>1.000007e+00</td>\n",
              "      <td>1.000007e+00</td>\n",
              "      <td>1.000007e+00</td>\n",
              "      <td>1.000007e+00</td>\n",
              "      <td>1.000007e+00</td>\n",
              "      <td>1.000007e+00</td>\n",
              "    </tr>\n",
              "    <tr>\n",
              "      <th>min</th>\n",
              "      <td>-1.326392e+00</td>\n",
              "      <td>-1.151137e+00</td>\n",
              "      <td>-2.413708e+00</td>\n",
              "      <td>-3.487665e+00</td>\n",
              "      <td>-2.104754e+00</td>\n",
              "      <td>-2.674641e+01</td>\n",
              "      <td>-8.434520e+00</td>\n",
              "      <td>-7.499560e+00</td>\n",
              "      <td>-8.542716e-01</td>\n",
              "      <td>-9.090700e+01</td>\n",
              "      <td>-2.041504e+01</td>\n",
              "      <td>-1.095229e+01</td>\n",
              "      <td>-1.408174e+01</td>\n",
              "      <td>-2.412787e+01</td>\n",
              "      <td>-3.065348e+01</td>\n",
              "      <td>-1.859074e+01</td>\n",
              "      <td>-7.436341e+00</td>\n",
              "      <td>-2.015774e+01</td>\n",
              "      <td>-2.596260e+01</td>\n",
              "      <td>-1.242267e+01</td>\n",
              "    </tr>\n",
              "    <tr>\n",
              "      <th>25%</th>\n",
              "      <td>-8.755797e-01</td>\n",
              "      <td>-3.913524e-01</td>\n",
              "      <td>-5.128250e-01</td>\n",
              "      <td>-1.767810e-01</td>\n",
              "      <td>-9.207746e-02</td>\n",
              "      <td>-1.930832e-01</td>\n",
              "      <td>-2.264271e-01</td>\n",
              "      <td>-2.968541e-01</td>\n",
              "      <td>-7.007080e-02</td>\n",
              "      <td>-9.728088e-02</td>\n",
              "      <td>-4.405846e-02</td>\n",
              "      <td>-2.080518e-01</td>\n",
              "      <td>-1.489526e-01</td>\n",
              "      <td>-1.581466e-01</td>\n",
              "      <td>-1.245426e-01</td>\n",
              "      <td>-5.241772e-01</td>\n",
              "      <td>-6.029504e-01</td>\n",
              "      <td>-2.893537e-01</td>\n",
              "      <td>-5.997462e-02</td>\n",
              "      <td>-5.361367e-01</td>\n",
              "    </tr>\n",
              "    <tr>\n",
              "      <th>50%</th>\n",
              "      <td>-5.020869e-01</td>\n",
              "      <td>-1.233750e-01</td>\n",
              "      <td>3.230989e-02</td>\n",
              "      <td>6.118127e-02</td>\n",
              "      <td>-3.726681e-02</td>\n",
              "      <td>-1.047378e-01</td>\n",
              "      <td>2.602395e-01</td>\n",
              "      <td>4.433339e-03</td>\n",
              "      <td>-2.832066e-02</td>\n",
              "      <td>-3.282729e-02</td>\n",
              "      <td>2.256750e-02</td>\n",
              "      <td>2.599566e-02</td>\n",
              "      <td>-3.707145e-02</td>\n",
              "      <td>-5.999566e-02</td>\n",
              "      <td>-1.571063e-02</td>\n",
              "      <td>6.781806e-02</td>\n",
              "      <td>-2.920864e-02</td>\n",
              "      <td>3.065332e-03</td>\n",
              "      <td>-6.436834e-03</td>\n",
              "      <td>3.911937e-02</td>\n",
              "    </tr>\n",
              "    <tr>\n",
              "      <th>75%</th>\n",
              "      <td>1.204626e+00</td>\n",
              "      <td>1.852484e-02</td>\n",
              "      <td>2.398357e-01</td>\n",
              "      <td>1.710523e-01</td>\n",
              "      <td>2.798614e-02</td>\n",
              "      <td>4.613749e-02</td>\n",
              "      <td>6.220538e-01</td>\n",
              "      <td>3.710084e-01</td>\n",
              "      <td>7.139203e-02</td>\n",
              "      <td>3.499273e-02</td>\n",
              "      <td>1.300525e-01</td>\n",
              "      <td>2.306685e-01</td>\n",
              "      <td>1.217622e-01</td>\n",
              "      <td>9.623360e-02</td>\n",
              "      <td>6.443912e-02</td>\n",
              "      <td>4.085305e-01</td>\n",
              "      <td>1.345946e-01</td>\n",
              "      <td>3.824669e-01</td>\n",
              "      <td>5.212183e-02</td>\n",
              "      <td>4.492440e-01</td>\n",
              "    </tr>\n",
              "    <tr>\n",
              "      <th>max</th>\n",
              "      <td>2.005726e+00</td>\n",
              "      <td>4.526969e+00</td>\n",
              "      <td>1.194687e+01</td>\n",
              "      <td>4.274254e+01</td>\n",
              "      <td>2.540734e+02</td>\n",
              "      <td>5.280319e+01</td>\n",
              "      <td>1.977229e+01</td>\n",
              "      <td>1.858820e+01</td>\n",
              "      <td>5.991677e+01</td>\n",
              "      <td>1.076784e+02</td>\n",
              "      <td>1.185268e+02</td>\n",
              "      <td>1.232672e+02</td>\n",
              "      <td>1.533263e+02</td>\n",
              "      <td>6.612644e+01</td>\n",
              "      <td>7.060553e+01</td>\n",
              "      <td>4.576438e+01</td>\n",
              "      <td>2.774572e+01</td>\n",
              "      <td>8.457870e+01</td>\n",
              "      <td>1.307231e+02</td>\n",
              "      <td>1.358712e+01</td>\n",
              "    </tr>\n",
              "  </tbody>\n",
              "</table>\n",
              "</div>"
            ],
            "text/plain": [
              "                 0             1   ...            18            19\n",
              "count  7.425700e+04  7.425700e+04  ...  7.425700e+04  7.425700e+04\n",
              "mean   1.583903e-16  4.838546e-17  ...  1.420737e-17  4.335367e-17\n",
              "std    1.000007e+00  1.000007e+00  ...  1.000007e+00  1.000007e+00\n",
              "min   -1.326392e+00 -1.151137e+00  ... -2.596260e+01 -1.242267e+01\n",
              "25%   -8.755797e-01 -3.913524e-01  ... -5.997462e-02 -5.361367e-01\n",
              "50%   -5.020869e-01 -1.233750e-01  ... -6.436834e-03  3.911937e-02\n",
              "75%    1.204626e+00  1.852484e-02  ...  5.212183e-02  4.492440e-01\n",
              "max    2.005726e+00  4.526969e+00  ...  1.307231e+02  1.358712e+01\n",
              "\n",
              "[8 rows x 20 columns]"
            ]
          },
          "metadata": {
            "tags": []
          },
          "execution_count": 234
        }
      ]
    },
    {
      "cell_type": "markdown",
      "metadata": {
        "id": "HGFhrkeeWW5Q",
        "colab_type": "text"
      },
      "source": [
        "[source used](https://medium.com/@curiousily/credit-card-fraud-detection-using-autoencoders-in-keras-tensorflow-for-hackers-part-vii-20e0c85301bd)"
      ]
    },
    {
      "cell_type": "code",
      "metadata": {
        "id": "qN5oyD7GUaFo",
        "colab_type": "code",
        "colab": {}
      },
      "source": [
        "input_dim = X_train_svd.shape[1]\n",
        "encoding_dim = 16\n",
        "input_layer = Input(shape=(input_dim, ))\n",
        "\n",
        "#encoder= BatchNormalization()(input_layer)\n",
        "encoder = Dense(encoding_dim, activation=\"tanh\", \n",
        "                activity_regularizer=regularizers.l1(10e-5))(input_layer)\n",
        "encoder = Dense(int(encoding_dim / 2), activation=\"relu\")(encoder)\n",
        "decoder = Dense(int(encoding_dim / 2), activation='tanh')(encoder)\n",
        "decoder = Dense(input_dim, activation='relu')(decoder)\n",
        "autoencoder = Model(inputs=input_layer, outputs=decoder)"
      ],
      "execution_count": 0,
      "outputs": []
    },
    {
      "cell_type": "code",
      "metadata": {
        "id": "ehq048hauElU",
        "colab_type": "code",
        "colab": {}
      },
      "source": [
        "# input_dim = X_train.shape[1]\n",
        "# encoding_dim = 14\n",
        "\n",
        "# input_layer = Input(shape=(input_dim, ))\n",
        "\n",
        "# encoder = Dense(encoding_dim, activation=\"tanh\", \n",
        "#                 activity_regularizer=regularizers.l1(10e-5))(input_layer)\n",
        "# encoder = Dense(int(encoding_dim / 2), activation=\"relu\")(encoder)\n",
        "\n",
        "# decoder = Dense(int(encoding_dim / 2), activation='tanh')(encoder)\n",
        "# decoder = Dense(input_dim, activation='relu')(decoder)\n",
        "\n",
        "# autoencoder = Model(inputs=input_layer, outputs=decoder"
      ],
      "execution_count": 0,
      "outputs": []
    },
    {
      "cell_type": "code",
      "metadata": {
        "id": "ZShEWRPkUaIv",
        "colab_type": "code",
        "colab": {}
      },
      "source": [
        "nb_epoch = 150\n",
        "batch_size = 32\n",
        "autoencoder.compile(optimizer='adam', \n",
        "                    loss='mean_squared_error', # mean_squared_error\n",
        "                    metrics=['accuracy'])\n",
        "tensorboard = TensorBoard(histogram_freq=0,\n",
        "                          write_graph=True,\n",
        "                          write_images=True)\n",
        "\n",
        "# from keras.utils import plot_model\n",
        "# plot_model(autoencoder)"
      ],
      "execution_count": 0,
      "outputs": []
    },
    {
      "cell_type": "code",
      "metadata": {
        "id": "Z0Re_4xlfNXq",
        "colab_type": "code",
        "outputId": "05505402-ab68-4171-e52a-a02209cde9cb",
        "colab": {
          "base_uri": "https://localhost:8080/",
          "height": 1000
        }
      },
      "source": [
        "history = autoencoder.fit(X_train_svd, X_train_svd,\n",
        "                    epochs=nb_epoch,\n",
        "                    batch_size=batch_size,\n",
        "                    shuffle=True,\n",
        "                    validation_data=(X_test_svd, X_test_svd),\n",
        "                    verbose=1,\n",
        "                    callbacks=[tensorboard]).history"
      ],
      "execution_count": 0,
      "outputs": [
        {
          "output_type": "stream",
          "text": [
            "Train on 74257 samples, validate on 74257 samples\n",
            "Epoch 1/150\n",
            "74257/74257 [==============================] - 5s 71us/step - loss: 0.8407 - acc: 0.7913 - val_loss: 0.8642 - val_acc: 0.8920\n",
            "Epoch 2/150\n",
            "74257/74257 [==============================] - 5s 64us/step - loss: 0.7602 - acc: 0.8905 - val_loss: 0.8278 - val_acc: 0.8959\n",
            "Epoch 3/150\n",
            "74257/74257 [==============================] - 5s 62us/step - loss: 0.7378 - acc: 0.8924 - val_loss: 0.8134 - val_acc: 0.8929\n",
            "Epoch 4/150\n",
            "74257/74257 [==============================] - 5s 64us/step - loss: 0.7276 - acc: 0.8917 - val_loss: 0.8014 - val_acc: 0.8943\n",
            "Epoch 5/150\n",
            "74257/74257 [==============================] - 5s 63us/step - loss: 0.7205 - acc: 0.8916 - val_loss: 0.7933 - val_acc: 0.8963\n",
            "Epoch 6/150\n",
            "74257/74257 [==============================] - 5s 63us/step - loss: 0.7141 - acc: 0.8926 - val_loss: 0.7863 - val_acc: 0.8943\n",
            "Epoch 7/150\n",
            "74257/74257 [==============================] - 5s 63us/step - loss: 0.7094 - acc: 0.8946 - val_loss: 0.7792 - val_acc: 0.8999\n",
            "Epoch 8/150\n",
            "74257/74257 [==============================] - 5s 62us/step - loss: 0.7039 - acc: 0.8945 - val_loss: 0.7735 - val_acc: 0.8915\n",
            "Epoch 9/150\n",
            "74257/74257 [==============================] - 5s 65us/step - loss: 0.6994 - acc: 0.8974 - val_loss: 0.7662 - val_acc: 0.8940\n",
            "Epoch 10/150\n",
            "74257/74257 [==============================] - 5s 64us/step - loss: 0.6943 - acc: 0.8980 - val_loss: 0.7601 - val_acc: 0.8925\n",
            "Epoch 11/150\n",
            "74257/74257 [==============================] - 5s 63us/step - loss: 0.6907 - acc: 0.8971 - val_loss: 0.7544 - val_acc: 0.9033\n",
            "Epoch 12/150\n",
            "74257/74257 [==============================] - 5s 64us/step - loss: 0.6863 - acc: 0.8949 - val_loss: 0.7485 - val_acc: 0.8935\n",
            "Epoch 13/150\n",
            "74257/74257 [==============================] - 5s 67us/step - loss: 0.6800 - acc: 0.8980 - val_loss: 0.7395 - val_acc: 0.8913\n",
            "Epoch 14/150\n",
            "74257/74257 [==============================] - 5s 62us/step - loss: 0.6764 - acc: 0.8999 - val_loss: 0.7378 - val_acc: 0.8835\n",
            "Epoch 15/150\n",
            "74257/74257 [==============================] - 5s 62us/step - loss: 0.6716 - acc: 0.8981 - val_loss: 0.7281 - val_acc: 0.9009\n",
            "Epoch 16/150\n",
            "74257/74257 [==============================] - 5s 62us/step - loss: 0.6683 - acc: 0.9006 - val_loss: 0.7241 - val_acc: 0.8902\n",
            "Epoch 17/150\n",
            "74257/74257 [==============================] - 5s 63us/step - loss: 0.6652 - acc: 0.8979 - val_loss: 0.7307 - val_acc: 0.9000\n",
            "Epoch 18/150\n",
            "74257/74257 [==============================] - 5s 63us/step - loss: 0.6629 - acc: 0.8986 - val_loss: 0.7175 - val_acc: 0.9096\n",
            "Epoch 19/150\n",
            "74257/74257 [==============================] - 5s 64us/step - loss: 0.6590 - acc: 0.8991 - val_loss: 0.7156 - val_acc: 0.9024\n",
            "Epoch 20/150\n",
            "74257/74257 [==============================] - 5s 63us/step - loss: 0.6565 - acc: 0.8968 - val_loss: 0.7164 - val_acc: 0.9080\n",
            "Epoch 21/150\n",
            "74257/74257 [==============================] - 5s 63us/step - loss: 0.6575 - acc: 0.8995 - val_loss: 0.7108 - val_acc: 0.9040\n",
            "Epoch 22/150\n",
            "74257/74257 [==============================] - 5s 62us/step - loss: 0.6547 - acc: 0.8988 - val_loss: 0.7086 - val_acc: 0.9040\n",
            "Epoch 23/150\n",
            "74257/74257 [==============================] - 5s 62us/step - loss: 0.6509 - acc: 0.8979 - val_loss: 0.7341 - val_acc: 0.8981\n",
            "Epoch 24/150\n",
            "74257/74257 [==============================] - 5s 62us/step - loss: 0.6492 - acc: 0.8991 - val_loss: 0.7014 - val_acc: 0.8984\n",
            "Epoch 25/150\n",
            "74257/74257 [==============================] - 5s 63us/step - loss: 0.6470 - acc: 0.8978 - val_loss: 0.7060 - val_acc: 0.8847\n",
            "Epoch 26/150\n",
            "74257/74257 [==============================] - 5s 63us/step - loss: 0.6461 - acc: 0.8970 - val_loss: 0.7017 - val_acc: 0.9002\n",
            "Epoch 27/150\n",
            "74257/74257 [==============================] - 5s 63us/step - loss: 0.6467 - acc: 0.8965 - val_loss: 0.6944 - val_acc: 0.9014\n",
            "Epoch 28/150\n",
            "74257/74257 [==============================] - 5s 63us/step - loss: 0.6415 - acc: 0.8973 - val_loss: 0.6959 - val_acc: 0.9007\n",
            "Epoch 29/150\n",
            "74257/74257 [==============================] - 5s 63us/step - loss: 0.6428 - acc: 0.8972 - val_loss: 0.6964 - val_acc: 0.8869\n",
            "Epoch 30/150\n",
            "74257/74257 [==============================] - 5s 63us/step - loss: 0.6411 - acc: 0.8990 - val_loss: 0.6957 - val_acc: 0.8971\n",
            "Epoch 31/150\n",
            "74257/74257 [==============================] - 5s 65us/step - loss: 0.6413 - acc: 0.8965 - val_loss: 0.6923 - val_acc: 0.8939\n",
            "Epoch 32/150\n",
            "74257/74257 [==============================] - 5s 65us/step - loss: 0.6379 - acc: 0.8981 - val_loss: 0.6930 - val_acc: 0.8932\n",
            "Epoch 33/150\n",
            "74257/74257 [==============================] - 5s 63us/step - loss: 0.6332 - acc: 0.8977 - val_loss: 0.6859 - val_acc: 0.8971\n",
            "Epoch 34/150\n",
            "74257/74257 [==============================] - 5s 63us/step - loss: 0.6325 - acc: 0.8954 - val_loss: 0.6861 - val_acc: 0.9040\n",
            "Epoch 35/150\n",
            "74257/74257 [==============================] - 5s 63us/step - loss: 0.6299 - acc: 0.8960 - val_loss: 0.6807 - val_acc: 0.8987\n",
            "Epoch 36/150\n",
            "74257/74257 [==============================] - 5s 63us/step - loss: 0.6272 - acc: 0.8962 - val_loss: 0.6932 - val_acc: 0.8929\n",
            "Epoch 37/150\n",
            "74257/74257 [==============================] - 5s 63us/step - loss: 0.6239 - acc: 0.8922 - val_loss: 0.6926 - val_acc: 0.8952\n",
            "Epoch 38/150\n",
            "74257/74257 [==============================] - 5s 62us/step - loss: 0.6210 - acc: 0.8930 - val_loss: 0.6723 - val_acc: 0.8961\n",
            "Epoch 39/150\n",
            "74257/74257 [==============================] - 5s 62us/step - loss: 0.6182 - acc: 0.8922 - val_loss: 0.6739 - val_acc: 0.8957\n",
            "Epoch 40/150\n",
            "74257/74257 [==============================] - 5s 62us/step - loss: 0.6154 - acc: 0.8888 - val_loss: 0.6684 - val_acc: 0.8988\n",
            "Epoch 41/150\n",
            "74257/74257 [==============================] - 5s 63us/step - loss: 0.6119 - acc: 0.8921 - val_loss: 0.6661 - val_acc: 0.8853\n",
            "Epoch 42/150\n",
            "74257/74257 [==============================] - 5s 62us/step - loss: 0.6096 - acc: 0.8900 - val_loss: 0.6766 - val_acc: 0.8930\n",
            "Epoch 43/150\n",
            "74257/74257 [==============================] - 5s 62us/step - loss: 0.6082 - acc: 0.8877 - val_loss: 0.6638 - val_acc: 0.8899\n",
            "Epoch 44/150\n",
            "74257/74257 [==============================] - 5s 62us/step - loss: 0.6042 - acc: 0.8882 - val_loss: 0.6633 - val_acc: 0.8841\n",
            "Epoch 45/150\n",
            "74257/74257 [==============================] - 5s 63us/step - loss: 0.6008 - acc: 0.8888 - val_loss: 0.6590 - val_acc: 0.8856\n",
            "Epoch 46/150\n",
            "74257/74257 [==============================] - 5s 64us/step - loss: 0.5992 - acc: 0.8896 - val_loss: 0.6711 - val_acc: 0.8925\n",
            "Epoch 47/150\n",
            "74257/74257 [==============================] - 5s 63us/step - loss: 0.5975 - acc: 0.8894 - val_loss: 0.6589 - val_acc: 0.9002\n",
            "Epoch 48/150\n",
            "74257/74257 [==============================] - 5s 63us/step - loss: 0.5952 - acc: 0.8894 - val_loss: 0.6572 - val_acc: 0.9015\n",
            "Epoch 49/150\n",
            "74257/74257 [==============================] - 5s 63us/step - loss: 0.5961 - acc: 0.8862 - val_loss: 0.6552 - val_acc: 0.8813\n",
            "Epoch 50/150\n",
            "74257/74257 [==============================] - 5s 63us/step - loss: 0.5916 - acc: 0.8908 - val_loss: 0.6572 - val_acc: 0.8607\n",
            "Epoch 51/150\n",
            "74257/74257 [==============================] - 5s 65us/step - loss: 0.5935 - acc: 0.8887 - val_loss: 0.6612 - val_acc: 0.8979\n",
            "Epoch 52/150\n",
            "74257/74257 [==============================] - 5s 62us/step - loss: 0.5894 - acc: 0.8883 - val_loss: 0.6524 - val_acc: 0.8873\n",
            "Epoch 53/150\n",
            "74257/74257 [==============================] - 5s 62us/step - loss: 0.5871 - acc: 0.8880 - val_loss: 0.6547 - val_acc: 0.8807\n",
            "Epoch 54/150\n",
            "74257/74257 [==============================] - 5s 62us/step - loss: 0.5881 - acc: 0.8862 - val_loss: 0.6547 - val_acc: 0.8945\n",
            "Epoch 55/150\n",
            "74257/74257 [==============================] - 5s 62us/step - loss: 0.5861 - acc: 0.8863 - val_loss: 0.6515 - val_acc: 0.8831\n",
            "Epoch 56/150\n",
            "74257/74257 [==============================] - 5s 62us/step - loss: 0.5846 - acc: 0.8846 - val_loss: 0.6556 - val_acc: 0.8774\n",
            "Epoch 57/150\n",
            "74257/74257 [==============================] - 5s 69us/step - loss: 0.5845 - acc: 0.8852 - val_loss: 0.6731 - val_acc: 0.8731\n",
            "Epoch 58/150\n",
            "74257/74257 [==============================] - 5s 70us/step - loss: 0.5851 - acc: 0.8861 - val_loss: 0.6488 - val_acc: 0.8816\n",
            "Epoch 59/150\n",
            "74257/74257 [==============================] - 5s 65us/step - loss: 0.5837 - acc: 0.8857 - val_loss: 0.6595 - val_acc: 0.8740\n",
            "Epoch 60/150\n",
            "74257/74257 [==============================] - 5s 64us/step - loss: 0.5847 - acc: 0.8871 - val_loss: 0.6593 - val_acc: 0.8925\n",
            "Epoch 61/150\n",
            "74257/74257 [==============================] - 5s 63us/step - loss: 0.5799 - acc: 0.8865 - val_loss: 0.6498 - val_acc: 0.8896\n",
            "Epoch 62/150\n",
            "74257/74257 [==============================] - 5s 63us/step - loss: 0.5821 - acc: 0.8865 - val_loss: 0.6512 - val_acc: 0.8536\n",
            "Epoch 63/150\n",
            "74257/74257 [==============================] - 5s 63us/step - loss: 0.5790 - acc: 0.8864 - val_loss: 0.6542 - val_acc: 0.8879\n",
            "Epoch 64/150\n",
            "74257/74257 [==============================] - 5s 63us/step - loss: 0.5793 - acc: 0.8846 - val_loss: 0.6462 - val_acc: 0.8904\n",
            "Epoch 65/150\n",
            "74257/74257 [==============================] - 5s 62us/step - loss: 0.5775 - acc: 0.8865 - val_loss: 0.6523 - val_acc: 0.8731\n",
            "Epoch 66/150\n",
            "74257/74257 [==============================] - 5s 64us/step - loss: 0.5777 - acc: 0.8864 - val_loss: 0.6499 - val_acc: 0.8602\n",
            "Epoch 67/150\n",
            "74257/74257 [==============================] - 5s 62us/step - loss: 0.5795 - acc: 0.8848 - val_loss: 0.6539 - val_acc: 0.8972\n",
            "Epoch 68/150\n",
            "74257/74257 [==============================] - 5s 62us/step - loss: 0.5753 - acc: 0.8862 - val_loss: 0.6490 - val_acc: 0.9019\n",
            "Epoch 69/150\n",
            "74257/74257 [==============================] - 5s 63us/step - loss: 0.5813 - acc: 0.8840 - val_loss: 0.6506 - val_acc: 0.8678\n",
            "Epoch 70/150\n",
            "74257/74257 [==============================] - 5s 63us/step - loss: 0.5772 - acc: 0.8866 - val_loss: 0.6450 - val_acc: 0.8911\n",
            "Epoch 71/150\n",
            "74257/74257 [==============================] - 5s 62us/step - loss: 0.5766 - acc: 0.8874 - val_loss: 0.6478 - val_acc: 0.8894\n",
            "Epoch 72/150\n",
            "74257/74257 [==============================] - 5s 65us/step - loss: 0.5768 - acc: 0.8875 - val_loss: 0.6452 - val_acc: 0.9053\n",
            "Epoch 73/150\n",
            "74257/74257 [==============================] - 5s 64us/step - loss: 0.5765 - acc: 0.8867 - val_loss: 0.6460 - val_acc: 0.8946\n",
            "Epoch 74/150\n",
            "74257/74257 [==============================] - 5s 63us/step - loss: 0.5749 - acc: 0.8876 - val_loss: 0.6435 - val_acc: 0.8944\n",
            "Epoch 75/150\n",
            "74257/74257 [==============================] - 5s 63us/step - loss: 0.5764 - acc: 0.8868 - val_loss: 0.6441 - val_acc: 0.8989\n",
            "Epoch 76/150\n",
            "74257/74257 [==============================] - 5s 64us/step - loss: 0.5742 - acc: 0.8870 - val_loss: 0.6470 - val_acc: 0.8861\n",
            "Epoch 77/150\n",
            "74257/74257 [==============================] - 5s 61us/step - loss: 0.5799 - acc: 0.8857 - val_loss: 0.6622 - val_acc: 0.8704\n",
            "Epoch 78/150\n",
            "74257/74257 [==============================] - 5s 66us/step - loss: 0.5750 - acc: 0.8902 - val_loss: 0.6412 - val_acc: 0.9011\n",
            "Epoch 79/150\n",
            "74257/74257 [==============================] - 5s 63us/step - loss: 0.5732 - acc: 0.8881 - val_loss: 0.6583 - val_acc: 0.8755\n",
            "Epoch 80/150\n",
            "74257/74257 [==============================] - 5s 62us/step - loss: 0.5762 - acc: 0.8878 - val_loss: 0.6448 - val_acc: 0.8597\n",
            "Epoch 81/150\n",
            "74257/74257 [==============================] - 5s 62us/step - loss: 0.5739 - acc: 0.8874 - val_loss: 0.6491 - val_acc: 0.8915\n",
            "Epoch 82/150\n",
            "74257/74257 [==============================] - 5s 62us/step - loss: 0.5737 - acc: 0.8837 - val_loss: 0.6422 - val_acc: 0.8996\n",
            "Epoch 83/150\n",
            "74257/74257 [==============================] - 5s 63us/step - loss: 0.5733 - acc: 0.8871 - val_loss: 0.6477 - val_acc: 0.9050\n",
            "Epoch 84/150\n",
            "74257/74257 [==============================] - 5s 62us/step - loss: 0.5709 - acc: 0.8907 - val_loss: 0.6417 - val_acc: 0.8774\n",
            "Epoch 85/150\n",
            "74257/74257 [==============================] - 5s 63us/step - loss: 0.5745 - acc: 0.8858 - val_loss: 0.6409 - val_acc: 0.8846\n",
            "Epoch 86/150\n",
            "74257/74257 [==============================] - 5s 62us/step - loss: 0.5727 - acc: 0.8858 - val_loss: 0.6410 - val_acc: 0.8992\n",
            "Epoch 87/150\n",
            "74257/74257 [==============================] - 5s 62us/step - loss: 0.5726 - acc: 0.8876 - val_loss: 0.6428 - val_acc: 0.8888\n",
            "Epoch 88/150\n",
            "74257/74257 [==============================] - 5s 64us/step - loss: 0.5727 - acc: 0.8892 - val_loss: 0.6465 - val_acc: 0.8344\n",
            "Epoch 89/150\n",
            "74257/74257 [==============================] - 5s 62us/step - loss: 0.5707 - acc: 0.8909 - val_loss: 0.6416 - val_acc: 0.8940\n",
            "Epoch 90/150\n",
            "74257/74257 [==============================] - 5s 62us/step - loss: 0.5707 - acc: 0.8878 - val_loss: 0.6484 - val_acc: 0.9091\n",
            "Epoch 91/150\n",
            "74257/74257 [==============================] - 5s 62us/step - loss: 0.5729 - acc: 0.8909 - val_loss: 0.6443 - val_acc: 0.8901\n",
            "Epoch 92/150\n",
            "74257/74257 [==============================] - 5s 62us/step - loss: 0.5725 - acc: 0.8882 - val_loss: 0.6380 - val_acc: 0.8934\n",
            "Epoch 93/150\n",
            "74257/74257 [==============================] - 5s 62us/step - loss: 0.5727 - acc: 0.8900 - val_loss: 0.6390 - val_acc: 0.8929\n",
            "Epoch 94/150\n",
            "74257/74257 [==============================] - 5s 62us/step - loss: 0.5703 - acc: 0.8919 - val_loss: 0.6423 - val_acc: 0.8929\n",
            "Epoch 95/150\n",
            "74257/74257 [==============================] - 5s 62us/step - loss: 0.5698 - acc: 0.8924 - val_loss: 0.6412 - val_acc: 0.8804\n",
            "Epoch 96/150\n",
            "74257/74257 [==============================] - 5s 62us/step - loss: 0.5792 - acc: 0.8861 - val_loss: 0.6638 - val_acc: 0.8861\n",
            "Epoch 97/150\n",
            "74257/74257 [==============================] - 5s 62us/step - loss: 0.5772 - acc: 0.8843 - val_loss: 0.6546 - val_acc: 0.8736\n",
            "Epoch 98/150\n",
            "74257/74257 [==============================] - 5s 62us/step - loss: 0.5786 - acc: 0.8824 - val_loss: 0.6801 - val_acc: 0.8518\n",
            "Epoch 99/150\n",
            "74257/74257 [==============================] - 5s 62us/step - loss: 0.5752 - acc: 0.8860 - val_loss: 0.6531 - val_acc: 0.8481\n",
            "Epoch 100/150\n",
            "74257/74257 [==============================] - 5s 61us/step - loss: 0.5743 - acc: 0.8834 - val_loss: 0.6463 - val_acc: 0.8941\n",
            "Epoch 101/150\n",
            "74257/74257 [==============================] - 5s 61us/step - loss: 0.5713 - acc: 0.8862 - val_loss: 0.6545 - val_acc: 0.9013\n",
            "Epoch 102/150\n",
            "74257/74257 [==============================] - 5s 61us/step - loss: 0.5732 - acc: 0.8883 - val_loss: 0.6506 - val_acc: 0.8879\n",
            "Epoch 103/150\n",
            "74257/74257 [==============================] - 5s 61us/step - loss: 0.5721 - acc: 0.8829 - val_loss: 0.6597 - val_acc: 0.8828\n",
            "Epoch 104/150\n",
            "74257/74257 [==============================] - 5s 61us/step - loss: 0.5739 - acc: 0.8832 - val_loss: 0.6437 - val_acc: 0.9041\n",
            "Epoch 105/150\n",
            "74257/74257 [==============================] - 5s 61us/step - loss: 0.5722 - acc: 0.8852 - val_loss: 0.6495 - val_acc: 0.8874\n",
            "Epoch 106/150\n",
            "74257/74257 [==============================] - 5s 62us/step - loss: 0.5711 - acc: 0.8873 - val_loss: 0.6501 - val_acc: 0.8423\n",
            "Epoch 107/150\n",
            "74257/74257 [==============================] - 5s 62us/step - loss: 0.5706 - acc: 0.8875 - val_loss: 0.6444 - val_acc: 0.8933\n",
            "Epoch 108/150\n",
            "74257/74257 [==============================] - 5s 63us/step - loss: 0.5716 - acc: 0.8875 - val_loss: 0.6419 - val_acc: 0.9007\n",
            "Epoch 109/150\n",
            "74257/74257 [==============================] - 5s 62us/step - loss: 0.5680 - acc: 0.8885 - val_loss: 0.6412 - val_acc: 0.8921\n",
            "Epoch 110/150\n",
            "74257/74257 [==============================] - 5s 62us/step - loss: 0.5717 - acc: 0.8869 - val_loss: 0.6510 - val_acc: 0.8969\n",
            "Epoch 111/150\n",
            "74257/74257 [==============================] - 5s 62us/step - loss: 0.5685 - acc: 0.8913 - val_loss: 0.6443 - val_acc: 0.9079\n",
            "Epoch 112/150\n",
            "74257/74257 [==============================] - 5s 63us/step - loss: 0.5678 - acc: 0.8882 - val_loss: 0.6427 - val_acc: 0.8664\n",
            "Epoch 113/150\n",
            "74257/74257 [==============================] - 5s 62us/step - loss: 0.5704 - acc: 0.8880 - val_loss: 0.6391 - val_acc: 0.8705\n",
            "Epoch 114/150\n",
            "74257/74257 [==============================] - 5s 62us/step - loss: 0.5700 - acc: 0.8901 - val_loss: 0.6380 - val_acc: 0.9040\n",
            "Epoch 115/150\n",
            "74257/74257 [==============================] - 5s 61us/step - loss: 0.5686 - acc: 0.8909 - val_loss: 0.6420 - val_acc: 0.8916\n",
            "Epoch 116/150\n",
            "74257/74257 [==============================] - 5s 62us/step - loss: 0.5683 - acc: 0.8926 - val_loss: 0.6417 - val_acc: 0.8739\n",
            "Epoch 117/150\n",
            "74257/74257 [==============================] - 5s 62us/step - loss: 0.5655 - acc: 0.8907 - val_loss: 0.6390 - val_acc: 0.8834\n",
            "Epoch 118/150\n",
            "74257/74257 [==============================] - 5s 62us/step - loss: 0.5671 - acc: 0.8921 - val_loss: 0.6376 - val_acc: 0.8988\n",
            "Epoch 119/150\n",
            "74257/74257 [==============================] - 5s 62us/step - loss: 0.5652 - acc: 0.8942 - val_loss: 0.6421 - val_acc: 0.8964\n",
            "Epoch 120/150\n",
            "74257/74257 [==============================] - 5s 64us/step - loss: 0.5667 - acc: 0.8915 - val_loss: 0.6460 - val_acc: 0.9038\n",
            "Epoch 121/150\n",
            "74257/74257 [==============================] - 5s 62us/step - loss: 0.5670 - acc: 0.8935 - val_loss: 0.6523 - val_acc: 0.8945\n",
            "Epoch 122/150\n",
            "74257/74257 [==============================] - 5s 61us/step - loss: 0.5670 - acc: 0.8934 - val_loss: 0.6449 - val_acc: 0.8906\n",
            "Epoch 123/150\n",
            "74257/74257 [==============================] - 5s 61us/step - loss: 0.5679 - acc: 0.8933 - val_loss: 0.6463 - val_acc: 0.8914\n",
            "Epoch 124/150\n",
            "74257/74257 [==============================] - 5s 67us/step - loss: 0.5703 - acc: 0.8922 - val_loss: 0.6506 - val_acc: 0.9031\n",
            "Epoch 125/150\n",
            "74257/74257 [==============================] - 5s 67us/step - loss: 0.5669 - acc: 0.8932 - val_loss: 0.6462 - val_acc: 0.8927\n",
            "Epoch 126/150\n",
            "74257/74257 [==============================] - 5s 62us/step - loss: 0.5659 - acc: 0.8914 - val_loss: 0.6399 - val_acc: 0.8987\n",
            "Epoch 127/150\n",
            "74257/74257 [==============================] - 4s 61us/step - loss: 0.5677 - acc: 0.8921 - val_loss: 0.6568 - val_acc: 0.8927\n",
            "Epoch 128/150\n",
            "74257/74257 [==============================] - 5s 63us/step - loss: 0.5656 - acc: 0.8939 - val_loss: 0.6457 - val_acc: 0.9072\n",
            "Epoch 129/150\n",
            "74257/74257 [==============================] - 5s 63us/step - loss: 0.5666 - acc: 0.8921 - val_loss: 0.6429 - val_acc: 0.9014\n",
            "Epoch 130/150\n",
            "74257/74257 [==============================] - 5s 61us/step - loss: 0.5649 - acc: 0.8943 - val_loss: 0.6424 - val_acc: 0.8881\n",
            "Epoch 131/150\n",
            "74257/74257 [==============================] - 4s 61us/step - loss: 0.5697 - acc: 0.8927 - val_loss: 0.6449 - val_acc: 0.9016\n",
            "Epoch 132/150\n",
            "74257/74257 [==============================] - 5s 63us/step - loss: 0.5630 - acc: 0.8988 - val_loss: 0.6382 - val_acc: 0.8629\n",
            "Epoch 133/150\n",
            "74257/74257 [==============================] - 5s 62us/step - loss: 0.5663 - acc: 0.8942 - val_loss: 0.6355 - val_acc: 0.9032\n",
            "Epoch 134/150\n",
            "74257/74257 [==============================] - 5s 61us/step - loss: 0.5649 - acc: 0.8946 - val_loss: 0.6481 - val_acc: 0.8540\n",
            "Epoch 135/150\n",
            "74257/74257 [==============================] - 5s 61us/step - loss: 0.5637 - acc: 0.8978 - val_loss: 0.6421 - val_acc: 0.8912\n",
            "Epoch 136/150\n",
            "74257/74257 [==============================] - 5s 61us/step - loss: 0.5651 - acc: 0.8972 - val_loss: 0.6603 - val_acc: 0.9033\n",
            "Epoch 137/150\n",
            "74257/74257 [==============================] - 5s 61us/step - loss: 0.5626 - acc: 0.8986 - val_loss: 0.6437 - val_acc: 0.9046\n",
            "Epoch 138/150\n",
            "74257/74257 [==============================] - 5s 62us/step - loss: 0.5643 - acc: 0.8965 - val_loss: 0.6379 - val_acc: 0.8865\n",
            "Epoch 139/150\n",
            "74257/74257 [==============================] - 5s 64us/step - loss: 0.5645 - acc: 0.8955 - val_loss: 0.6401 - val_acc: 0.9058\n",
            "Epoch 140/150\n",
            "74257/74257 [==============================] - 5s 63us/step - loss: 0.5694 - acc: 0.8959 - val_loss: 0.6576 - val_acc: 0.8900\n",
            "Epoch 141/150\n",
            "74257/74257 [==============================] - 5s 62us/step - loss: 0.5669 - acc: 0.8935 - val_loss: 0.6525 - val_acc: 0.8728\n",
            "Epoch 142/150\n",
            "74257/74257 [==============================] - 5s 62us/step - loss: 0.5667 - acc: 0.8945 - val_loss: 0.6497 - val_acc: 0.8786\n",
            "Epoch 143/150\n",
            "74257/74257 [==============================] - 5s 62us/step - loss: 0.5676 - acc: 0.8938 - val_loss: 0.6490 - val_acc: 0.8870\n",
            "Epoch 144/150\n",
            "74257/74257 [==============================] - 5s 68us/step - loss: 0.5645 - acc: 0.8970 - val_loss: 0.6502 - val_acc: 0.9019\n",
            "Epoch 145/150\n",
            "74257/74257 [==============================] - 5s 64us/step - loss: 0.5644 - acc: 0.8955 - val_loss: 0.6486 - val_acc: 0.8942\n",
            "Epoch 146/150\n",
            "74257/74257 [==============================] - 5s 63us/step - loss: 0.5638 - acc: 0.8964 - val_loss: 0.6432 - val_acc: 0.9039\n",
            "Epoch 147/150\n",
            "74257/74257 [==============================] - 5s 64us/step - loss: 0.5659 - acc: 0.8946 - val_loss: 0.6545 - val_acc: 0.8974\n",
            "Epoch 148/150\n",
            "74257/74257 [==============================] - 5s 62us/step - loss: 0.5643 - acc: 0.8956 - val_loss: 0.6488 - val_acc: 0.9022\n",
            "Epoch 149/150\n",
            "74257/74257 [==============================] - 5s 62us/step - loss: 0.5651 - acc: 0.8951 - val_loss: 0.6832 - val_acc: 0.8910\n",
            "Epoch 150/150\n",
            "74257/74257 [==============================] - 5s 61us/step - loss: 0.5628 - acc: 0.8963 - val_loss: 0.6600 - val_acc: 0.8992\n"
          ],
          "name": "stdout"
        }
      ]
    },
    {
      "cell_type": "code",
      "metadata": {
        "id": "PyFQhg0iUaSJ",
        "colab_type": "code",
        "outputId": "01d3f768-babb-4d41-9026-d465b174cba9",
        "colab": {
          "base_uri": "https://localhost:8080/",
          "height": 295
        }
      },
      "source": [
        "plt.plot(history['loss'])\n",
        "plt.plot(history['val_loss'])\n",
        "plt.title('model loss')\n",
        "plt.ylabel('loss')\n",
        "plt.xlabel('epoch')\n",
        "plt.legend(['train', 'test'], loc='upper right');"
      ],
      "execution_count": 0,
      "outputs": [
        {
          "output_type": "display_data",
          "data": {
            "image/png": "[encoded data removed]",
            "text/plain": [
              "<Figure size 432x288 with 1 Axes>"
            ]
          },
          "metadata": {
            "tags": []
          }
        }
      ]
    },
    {
      "cell_type": "code",
      "metadata": {
        "id": "kx1jRyWgUaVZ",
        "colab_type": "code",
        "outputId": "7f741756-4341-4f00-d0bb-047f4cb8e96c",
        "colab": {
          "base_uri": "https://localhost:8080/",
          "height": 297
        }
      },
      "source": [
        "predictions = autoencoder.predict(X_test_svd)\n",
        "mse = np.mean(np.power(X_test_svd - predictions, 2), axis=1)\n",
        "error_df = pd.DataFrame({'reconstruction_error': mse,'true_class': y_test.values.reshape(1,-1)[0]})\n",
        "error_df.describe()"
      ],
      "execution_count": 0,
      "outputs": [
        {
          "output_type": "execute_result",
          "data": {
            "text/html": [
              "<div>\n",
              "<style scoped>\n",
              "    .dataframe tbody tr th:only-of-type {\n",
              "        vertical-align: middle;\n",
              "    }\n",
              "\n",
              "    .dataframe tbody tr th {\n",
              "        vertical-align: top;\n",
              "    }\n",
              "\n",
              "    .dataframe thead th {\n",
              "        text-align: right;\n",
              "    }\n",
              "</style>\n",
              "<table border=\"1\" class=\"dataframe\">\n",
              "  <thead>\n",
              "    <tr style=\"text-align: right;\">\n",
              "      <th></th>\n",
              "      <th>reconstruction_error</th>\n",
              "      <th>true_class</th>\n",
              "    </tr>\n",
              "  </thead>\n",
              "  <tbody>\n",
              "    <tr>\n",
              "      <th>count</th>\n",
              "      <td>74257.000000</td>\n",
              "      <td>74257.000000</td>\n",
              "    </tr>\n",
              "    <tr>\n",
              "      <th>mean</th>\n",
              "      <td>0.655850</td>\n",
              "      <td>15.768951</td>\n",
              "    </tr>\n",
              "    <tr>\n",
              "      <th>std</th>\n",
              "      <td>15.506325</td>\n",
              "      <td>4.521670</td>\n",
              "    </tr>\n",
              "    <tr>\n",
              "      <th>min</th>\n",
              "      <td>0.031104</td>\n",
              "      <td>0.000000</td>\n",
              "    </tr>\n",
              "    <tr>\n",
              "      <th>25%</th>\n",
              "      <td>0.089781</td>\n",
              "      <td>14.000000</td>\n",
              "    </tr>\n",
              "    <tr>\n",
              "      <th>50%</th>\n",
              "      <td>0.121005</td>\n",
              "      <td>16.000000</td>\n",
              "    </tr>\n",
              "    <tr>\n",
              "      <th>75%</th>\n",
              "      <td>0.257092</td>\n",
              "      <td>16.000000</td>\n",
              "    </tr>\n",
              "    <tr>\n",
              "      <th>max</th>\n",
              "      <td>1790.583946</td>\n",
              "      <td>39.000000</td>\n",
              "    </tr>\n",
              "  </tbody>\n",
              "</table>\n",
              "</div>"
            ],
            "text/plain": [
              "       reconstruction_error    true_class\n",
              "count          74257.000000  74257.000000\n",
              "mean               0.655850     15.768951\n",
              "std               15.506325      4.521670\n",
              "min                0.031104      0.000000\n",
              "25%                0.089781     14.000000\n",
              "50%                0.121005     16.000000\n",
              "75%                0.257092     16.000000\n",
              "max             1790.583946     39.000000"
            ]
          },
          "metadata": {
            "tags": []
          },
          "execution_count": 245
        }
      ]
    },
    {
      "cell_type": "code",
      "metadata": {
        "id": "9iS1yroRUaX2",
        "colab_type": "code",
        "colab": {}
      },
      "source": [
        "# fig = plt.figure()\n",
        "# ax = fig.add_subplot(111)\n",
        "# normal_error_df = error_df[(error_df['true_class']== 0) & (error_df['reconstruction_error'] < 10)]\n",
        "# _ = ax.hist(normal_error_df.reconstruction_error.values, bins=10)\n"
      ],
      "execution_count": 0,
      "outputs": []
    },
    {
      "cell_type": "code",
      "metadata": {
        "id": "EvCuHO55UaaS",
        "colab_type": "code",
        "colab": {}
      },
      "source": [
        "# fig = plt.figure()\n",
        "# ax = fig.add_subplot(111)\n",
        "# fraud_error_df = error_df[error_df['true_class'] == 1]\n",
        "# _ = ax.hist(fraud_error_df.reconstruction_error.values, bins=10)"
      ],
      "execution_count": 0,
      "outputs": []
    },
    {
      "cell_type": "code",
      "metadata": {
        "id": "03slZw50UaRL",
        "colab_type": "code",
        "outputId": "ddc8c147-8983-4a4d-b954-d7dab23eddba",
        "colab": {
          "base_uri": "https://localhost:8080/",
          "height": 295
        }
      },
      "source": [
        "fpr, tpr, thresholds = roc_curve(error_df.true_class, error_df.reconstruction_error,pos_label=2)\n",
        "roc_auc = auc(fpr, tpr)\n",
        "\n",
        "\n",
        "plt.title('Receiver Operating Characteristic')\n",
        "plt.plot(fpr, tpr, label='AUC = %0.4f'% roc_auc)\n",
        "plt.legend(loc='lower right')\n",
        "plt.plot([0,1],[0,1],'r--')\n",
        "plt.xlim([-0.001, 1])\n",
        "plt.ylim([0, 1.001])\n",
        "plt.ylabel('True Positive Rate')\n",
        "plt.xlabel('False Positive Rate')\n",
        "plt.show();"
      ],
      "execution_count": 0,
      "outputs": [
        {
          "output_type": "display_data",
          "data": {
            "image/png": "[encoded data removed]",
            "text/plain": [
              "<Figure size 432x288 with 1 Axes>"
            ]
          },
          "metadata": {
            "tags": []
          }
        }
      ]
    },
    {
      "cell_type": "code",
      "metadata": {
        "id": "R-pbYyAQWF9T",
        "colab_type": "code",
        "outputId": "b3f7d30c-9270-4989-f3b0-de6e49a87f68",
        "colab": {
          "base_uri": "https://localhost:8080/",
          "height": 312
        }
      },
      "source": [
        "precision, recall, th = precision_recall_curve(error_df.true_class, error_df.reconstruction_error,pos_label=2)\n",
        "plt.plot(recall, precision, 'b', label='Precision-Recall curve')\n",
        "plt.title('Recall vs Precision')\n",
        "plt.xlabel('Recall')\n",
        "plt.ylabel('Precision')\n",
        "plt.show()"
      ],
      "execution_count": 0,
      "outputs": [
        {
          "output_type": "execute_result",
          "data": {
            "text/plain": [
              "[<matplotlib.lines.Line2D at 0x7f771263cb38>]"
            ]
          },
          "metadata": {
            "tags": []
          },
          "execution_count": 247
        },
        {
          "output_type": "execute_result",
          "data": {
            "text/plain": [
              "Text(0.5, 1.0, 'Recall vs Precision')"
            ]
          },
          "metadata": {
            "tags": []
          },
          "execution_count": 247
        },
        {
          "output_type": "execute_result",
          "data": {
            "text/plain": [
              "Text(0.5, 0, 'Recall')"
            ]
          },
          "metadata": {
            "tags": []
          },
          "execution_count": 247
        },
        {
          "output_type": "execute_result",
          "data": {
            "text/plain": [
              "Text(0, 0.5, 'Precision')"
            ]
          },
          "metadata": {
            "tags": []
          },
          "execution_count": 247
        },
        {
          "output_type": "display_data",
          "data": {
            "image/png": "[encoded data removed]",
            "text/plain": [
              "<Figure size 432x288 with 1 Axes>"
            ]
          },
          "metadata": {
            "tags": []
          }
        }
      ]
    },
    {
      "cell_type": "code",
      "metadata": {
        "id": "Rtw4oLWoWGAl",
        "colab_type": "code",
        "colab": {}
      },
      "source": [
        ""
      ],
      "execution_count": 0,
      "outputs": []
    },
    {
      "cell_type": "code",
      "metadata": {
        "id": "0VYvOtK3WGDk",
        "colab_type": "code",
        "colab": {}
      },
      "source": [
        ""
      ],
      "execution_count": 0,
      "outputs": []
    },
    {
      "cell_type": "code",
      "metadata": {
        "id": "0ZO3sHutWGGK",
        "colab_type": "code",
        "colab": {}
      },
      "source": [
        ""
      ],
      "execution_count": 0,
      "outputs": []
    },
    {
      "cell_type": "code",
      "metadata": {
        "id": "44ctGaksWGJq",
        "colab_type": "code",
        "colab": {}
      },
      "source": [
        ""
      ],
      "execution_count": 0,
      "outputs": []
    },
    {
      "cell_type": "code",
      "metadata": {
        "id": "dcN0CkgdUaP-",
        "colab_type": "code",
        "colab": {}
      },
      "source": [
        ""
      ],
      "execution_count": 0,
      "outputs": []
    },
    {
      "cell_type": "code",
      "metadata": {
        "id": "VAdJWAGfMBrW",
        "colab_type": "code",
        "colab": {}
      },
      "source": [
        ""
      ],
      "execution_count": 0,
      "outputs": []
    },
    {
      "cell_type": "code",
      "metadata": {
        "id": "wqMgvWslMBuT",
        "colab_type": "code",
        "colab": {}
      },
      "source": [
        ""
      ],
      "execution_count": 0,
      "outputs": []
    },
    {
      "cell_type": "code",
      "metadata": {
        "id": "dx6Hu-UDMBxI",
        "colab_type": "code",
        "colab": {}
      },
      "source": [
        ""
      ],
      "execution_count": 0,
      "outputs": []
    }
  ]
}
